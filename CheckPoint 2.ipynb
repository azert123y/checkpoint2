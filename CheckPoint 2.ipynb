{
 "cells": [
  {
   "cell_type": "code",
   "execution_count": 4,
   "id": "87808d97",
   "metadata": {},
   "outputs": [
    {
     "name": "stdout",
     "output_type": "stream",
     "text": [
      "Question 1\n",
      "2002,2009,2016,2023,2037,2044,2051,2058,2072,2079,2086,2093,2107,2114,2121,2128,2142,2149,2156,2163,2177,2184,2191,2198,2212,2219,2226,2233,2247,2254,2261,2268,2282,2289,2296,2303,2317,2324,2331,2338,2352,2359,2366,2373,2387,2394,2401,2408,2422,2429,2436,2443,2457,2464,2471,2478,2492,2499,2506,2513,2527,2534,2541,2548,2562,2569,2576,2583,2597,2604,2611,2618,2632,2639,2646,2653,2667,2674,2681,2688,2702,2709,2716,2723,2737,2744,2751,2758,2772,2779,2786,2793,2807,2814,2821,2828,2842,2849,2856,2863,2877,2884,2891,2898,2912,2919,2926,2933,2947,2954,2961,2968,2982,2989,2996,3003,3017,3024,3031,3038,3052,3059,3066,3073,3087,3094,3101,3108,3122,3129,3136,3143,3157,3164,3171,3178,3192,3199\n"
     ]
    }
   ],
   "source": [
    "print(\"Question 1\")\n",
    "a=[]\n",
    "for x in range(2000, 3200):\n",
    "    if (x%7==0) and (x%5!=0):\n",
    "        a.append(str(x))\n",
    "print (','.join(a))"
   ]
  },
  {
   "cell_type": "code",
   "execution_count": 2,
   "id": "20c24968",
   "metadata": {},
   "outputs": [
    {
     "name": "stdout",
     "output_type": "stream",
     "text": [
      "Question 2\n",
      "Enter a number: 4\n",
      "The factorial of 4 is 24\n"
     ]
    }
   ],
   "source": [
    "print(\"Question 2\")\n",
    "num = int(input(\"Enter a number: \"))    \n",
    "factorial = 1    \n",
    "if num < 0:    \n",
    "   print(\" Factorial does not exist for negative numbers\")    \n",
    "elif num == 0:    \n",
    "   print(\"The factorial of 0 is 1\")    \n",
    "else:    \n",
    "   for i in range(1,num + 1):    \n",
    "       factorial = factorial*i    \n",
    "   print(\"The factorial of\",num,\"is\",factorial)    "
   ]
  },
  {
   "cell_type": "code",
   "execution_count": 3,
   "id": "4672d7fa",
   "metadata": {},
   "outputs": [
    {
     "name": "stdout",
     "output_type": "stream",
     "text": [
      "Question 3\n",
      "Enter a number: 4\n",
      "{4: 16, 1: 1}\n",
      "{4: 16, 1: 1, 2: 4}\n",
      "{4: 16, 1: 1, 2: 4, 3: 9}\n"
     ]
    }
   ],
   "source": [
    "print(\"Question 3\")\n",
    "x=int(input(\"Enter a number: \"))\n",
    "i = 1\n",
    "MyDict={x:x*x}\n",
    "while i<x:\n",
    "  MyDict[i] = i*i\n",
    "  print(MyDict)\n",
    "  i+=1\n"
   ]
  },
  {
   "cell_type": "code",
   "execution_count": 10,
   "id": "90493b6b",
   "metadata": {},
   "outputs": [
    {
     "name": "stdout",
     "output_type": "stream",
     "text": [
      "Question 4\n",
      "Enter a term yasmine\n",
      "Enter index 3\n",
      "yasine\n"
     ]
    }
   ],
   "source": [
    "print(\"Question 4\")\n",
    "s = str(input(\"Enter a term \"))\n",
    "a = int(input(\"Enter index \"))\n",
    "print(s[:a]+s[a+1:])"
   ]
  },
  {
   "cell_type": "code",
   "execution_count": 6,
   "id": "14690040",
   "metadata": {},
   "outputs": [
    {
     "name": "stdout",
     "output_type": "stream",
     "text": [
      "Question 5\n",
      "[[0, 1], [2, 3], [4, 5]]\n"
     ]
    }
   ],
   "source": [
    "print(\"Question 5\")\n",
    "import numpy as np\n",
    "a = np.array([[0, 1],[2, 3],[4, 5]])\n",
    "print([list(x) for x in a ])"
   ]
  },
  {
   "cell_type": "code",
   "execution_count": 5,
   "id": "87a8635a",
   "metadata": {
    "scrolled": true
   },
   "outputs": [
    {
     "name": "stdout",
     "output_type": "stream",
     "text": [
      "Question 6\n",
      "[[ 1. -1.]\n",
      " [-1.  1.]]\n"
     ]
    }
   ],
   "source": [
    "print(\"Question 6\")\n",
    "import numpy as np\n",
    "Array1 = np.array ([0, 1, 2])\n",
    "Array2 = np.array ([2,1,0])\n",
    "print(np.cov(Array1,Array2))"
   ]
  },
  {
   "cell_type": "code",
   "execution_count": 4,
   "id": "a8c4b79d",
   "metadata": {},
   "outputs": [
    {
     "name": "stdout",
     "output_type": "stream",
     "text": [
      "Question 7\n",
      "term 1 1\n",
      "term 2 1\n",
      "term 3 1\n",
      "[2, 2, 2]\n"
     ]
    }
   ],
   "source": [
    "print(\"Question 7\")\n",
    "import numpy as np\n",
    "C = int(50)\n",
    "H = int(30)\n",
    "def v1():\n",
    " return int(input(\"term 1 \"))\n",
    "def v2():\n",
    " return int(input(\"term 2 \"))\n",
    "def v3():\n",
    " return int(input(\"term 3 \"))\n",
    "D = [v1(), v2(), v3()]\n",
    "Q = [round(np.sqrt(2*C*d/H)) for d in D]\n",
    "print(Q)"
   ]
  }
 ],
 "metadata": {
  "kernelspec": {
   "display_name": "Python 3",
   "language": "python",
   "name": "python3"
  },
  "language_info": {
   "codemirror_mode": {
    "name": "ipython",
    "version": 3
   },
   "file_extension": ".py",
   "mimetype": "text/x-python",
   "name": "python",
   "nbconvert_exporter": "python",
   "pygments_lexer": "ipython3",
   "version": "3.8.8"
  }
 },
 "nbformat": 4,
 "nbformat_minor": 5
}
